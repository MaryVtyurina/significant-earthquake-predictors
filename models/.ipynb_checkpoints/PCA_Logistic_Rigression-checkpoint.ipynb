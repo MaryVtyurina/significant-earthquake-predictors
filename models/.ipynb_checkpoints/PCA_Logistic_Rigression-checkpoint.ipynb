{
 "cells": [
  {
   "cell_type": "code",
   "execution_count": 12,
   "metadata": {},
   "outputs": [],
   "source": [
    "import geopy.distance\n",
    "import pandas as pd\n",
    "import os\n",
    "import datetime"
   ]
  },
  {
   "cell_type": "code",
   "execution_count": 21,
   "metadata": {},
   "outputs": [
    {
     "data": {
      "text/plain": [
       "(2399, 5136)"
      ]
     },
     "execution_count": 21,
     "metadata": {},
     "output_type": "execute_result"
    }
   ],
   "source": [
    "data_in_out = pd.read_csv('dataset_ml/flattened_ds_sondes_in_out.csv')\n",
    "data_in_out = pd.read_csv('../ionosphere_dataset/NOAA/NOAA_datasets_for_ML/datasets_LR_model/flattened_ds_sondes_in_out_7days.csv')\n",
    "data_before_after_14 = pd.read_csv('../ionosphere_dataset/NOAA/NOAA_datasets_for_ML/datasets_LR_model//flattened_ds_y_ago_y_after_d_14days.csv')"
   ]
  },
  {
   "cell_type": "code",
   "execution_count": 42,
   "metadata": {},
   "outputs": [],
   "source": [
    "def plot_roc_curve(fpr, tpr):\n",
    "    plt.plot(fpr, tpr, color='orange', label='ROC')\n",
    "    plt.plot([0, 1], [0, 1], color='darkblue', linestyle='--')\n",
    "    plt.xlabel('False Positive Rate')\n",
    "    plt.ylabel('True Positive Rate')\n",
    "    plt.title('Receiver Operating Characteristic (ROC) Curve')\n",
    "    plt.legend()\n",
    "    plt.show()"
   ]
  },
  {
   "cell_type": "code",
   "execution_count": 43,
   "metadata": {},
   "outputs": [],
   "source": [
    "from sklearn.preprocessing import StandardScaler\n",
    "from sklearn.model_selection import train_test_split\n",
    "from sklearn.linear_model import LogisticRegression\n",
    "from sklearn import metrics\n",
    "from sklearn.model_selection import KFold\n",
    "from sklearn.decomposition import PCA\n",
    "from sklearn.pipeline import Pipeline\n",
    "from sklearn.metrics import accuracy_score\n",
    "from sklearn.metrics import f1_score\n",
    "\n",
    "from sklearn.metrics import confusion_matrix\n",
    "from sklearn.metrics import precision_recall_fscore_support\n",
    "from sklearn.metrics import precision_score, recall_score\n",
    "from sklearn.metrics import roc_auc_score\n",
    "from sklearn.metrics import roc_curve\n",
    "from matplotlib import pyplot as plt\n",
    "\n",
    "\n",
    "def calculate_metrix(x_test ,y_test, model, average='weighted'):\n",
    "    y_pred = model.predict(x_test)\n",
    "    tn, fp, fn, tp = confusion_matrix(y_test, y_pred).ravel()\n",
    "    print('TN=', tn, '\\n',\n",
    "          'FP=', fp, '\\n',\n",
    "          'FN=', fn, '\\n',\n",
    "          'TP=', tp, '\\n')\n",
    "    \n",
    "    p, r, f1, _ = precision_recall_fscore_support(y_test, y_pred, average=average)\n",
    "    print('precision=', p, '\\n',\n",
    "          'recall=', r, '\\n',\n",
    "          'F score=', f1, '\\n')\n",
    "    \n",
    "    fpr, tpr, thresholds = roc_curve(y_test, y_pred)\n",
    "    plot_roc_curve(fpr, tpr)\n",
    "\n",
    "def compare_models(df):\n",
    "    ds_data = df.drop(columns = ['res']).to_numpy()\n",
    "    ds_target = df['res'].to_numpy()\n",
    "    x_train, x_test, y_train, y_test = train_test_split(ds_data, ds_target, test_size=0.2, random_state=42)\n",
    "    sc = StandardScaler()\n",
    "    x_train_std = sc.fit_transform(x_train)\n",
    "    x_test_std = sc.transform(x_test)\n",
    "    X = x_train_std\n",
    "    y = y_train\n",
    "    \n",
    "    # model = LogisticRegression(penalty='l1', C=100, solver='liblinear',  max_iter=10000, tol=0.1)\n",
    "    model_log_reg= LogisticRegression(max_iter=10000, tol=0.1)\n",
    "    acc_log_reg = []\n",
    "\n",
    "    pca = PCA(n_components=64)\n",
    "    # set the tolerance to a large value to make the example faster\n",
    "    logistic = LogisticRegression( max_iter=10000,tol=0.1)\n",
    "    pipe_pca = Pipeline(steps=[('pca', pca), ('logistic', logistic)])\n",
    "    acc_pca = []\n",
    "\n",
    "    model_log_reg_l2 = LogisticRegression(penalty='l2', C=100, solver='liblinear',  max_iter=10000, tol=0.1)\n",
    "    acc_l2 = []\n",
    "    \n",
    "    kf = KFold(n_splits=10)\n",
    "    kf.get_n_splits(X)\n",
    "    for train_index, test_index in kf.split(X):\n",
    "    #     print(\"TRAIN:\", train_index, \"TEST:\", test_index)\n",
    "        X_train, X_test = X[train_index], X[test_index]\n",
    "        Y_train, Y_test = y[train_index], y[test_index]\n",
    "        model_log_reg.fit(X_train, Y_train)\n",
    "        pipe_pca.fit(X_train, Y_train)\n",
    "        model_log_reg_l2.fit(X_train, Y_train)\n",
    "        acc_log_reg.append(model_log_reg.score(X_test, Y_test))\n",
    "        acc_pca.append(pipe_pca.score(X_test, Y_test))\n",
    "        acc_l2.append(model_log_reg_l2.score(X_test, Y_test))\n",
    "    \n",
    "    print('Log reg test acc= ', accuracy_score(y_test, model_log_reg.predict(x_test_std)))\n",
    "    print('PCA test acc = ', accuracy_score(y_test, pipe_pca.predict(x_test_std)))\n",
    "    print('L2 test acc = ', accuracy_score(y_test, model_log_reg_l2.predict(x_test_std)))\n",
    "    print('\\n')\n",
    "    print('Log reg test f1= ', f1_score(y_test, model_log_reg.predict(x_test_std), average='weighted'))\n",
    "    print('PCA test f1 = ', f1_score(y_test, pipe_pca.predict(x_test_std), average='weighted'))\n",
    "    print('L2 test f1 = ', f1_score(y_test, model_log_reg_l2.predict(x_test_std), average='weighted'))\n",
    "    \n",
    "    print('\\n')\n",
    "    \n",
    "    print('Log reg')\n",
    "    calculate_metrix(x_test_std, y_test, model_log_reg)\n",
    "    print('\\n')\n",
    "    print('PCA + Log reg')\n",
    "    calculate_metrix(x_test_std, y_test, pipe_pca)\n",
    "    print('\\n')\n",
    "    print('Log reg + L2')\n",
    "    calculate_metrix(x_test_std, y_test, model_log_reg_l2)\n",
    "    \n",
    "    return acc_log_reg, acc_pca, acc_l2\n",
    "\n",
    "from scipy.stats import ttest_ind\n",
    "import numpy as np\n",
    "from scipy import stats\n",
    "\n",
    "def compare_samples_t_test(s1, s2):\n",
    "    log_reg_mean = np.mean(s1)\n",
    "    pca_mean = np.mean(s2)\n",
    "    print(\"log_reg mean value:\",log_reg_mean)\n",
    "    print(\"pca mean value:\",pca_mean)\n",
    "    log_reg_std = np.std(s1)\n",
    "    pca_std = np.std(s2)\n",
    "    print(\"l1 std value:\",log_reg_std)\n",
    "    print(\"pca std value:\",pca_std)\n",
    "    ttest,pval = ttest_ind(s1, s2)\n",
    "    # ttest,pval = stats.ttest_rel(test_acc,test_acc_pca)\n",
    "    print(\"p-value\",pval)\n",
    "    if pval < 0.05:\n",
    "        print(\"we reject null hypothesis\")\n",
    "    else:\n",
    "        print(\"we accept null hypothesis\")"
   ]
  },
  {
   "cell_type": "code",
   "execution_count": 44,
   "metadata": {},
   "outputs": [
    {
     "name": "stdout",
     "output_type": "stream",
     "text": [
      "Log reg test acc=  0.7716701902748414\n",
      "PCA test acc =  0.8245243128964059\n",
      "L2 test acc =  0.7801268498942917\n",
      "\n",
      "\n",
      "Log reg test f1=  0.774305872897615\n",
      "PCA test f1 =  0.8195310658538282\n",
      "L2 test f1 =  0.7814530495890912\n",
      "\n",
      "\n",
      "Log reg\n",
      "TN= 274 \n",
      " FP= 60 \n",
      " FN= 48 \n",
      " TP= 91 \n",
      "\n",
      "precision= 0.7779691163736858 \n",
      " recall= 0.7716701902748414 \n",
      " F score= 0.774305872897615 \n",
      "\n"
     ]
    },
    {
     "data": {
      "image/png": "[encoded data removed]",
      "text/plain": [
       "<Figure size 432x288 with 1 Axes>"
      ]
     },
     "metadata": {
      "needs_background": "light"
     },
     "output_type": "display_data"
    },
    {
     "name": "stdout",
     "output_type": "stream",
     "text": [
      "\n",
      "\n",
      "PCA + Log reg\n",
      "TN= 304 \n",
      " FP= 30 \n",
      " FN= 53 \n",
      " TP= 86 \n",
      "\n",
      "precision= 0.8191676320597496 \n",
      " recall= 0.8245243128964059 \n",
      " F score= 0.8195310658538282 \n",
      "\n"
     ]
    },
    {
     "data": {
      "image/png": "[encoded data removed]",
      "text/plain": [
       "<Figure size 432x288 with 1 Axes>"
      ]
     },
     "metadata": {
      "needs_background": "light"
     },
     "output_type": "display_data"
    },
    {
     "name": "stdout",
     "output_type": "stream",
     "text": [
      "\n",
      "\n",
      "Log reg + L2\n",
      "TN= 279 \n",
      " FP= 55 \n",
      " FN= 49 \n",
      " TP= 90 \n",
      "\n",
      "precision= 0.7830433839440822 \n",
      " recall= 0.7801268498942917 \n",
      " F score= 0.7814530495890912 \n",
      "\n"
     ]
    },
    {
     "data": {
      "image/png": "[encoded data removed]",
      "text/plain": [
       "<Figure size 432x288 with 1 Axes>"
      ]
     },
     "metadata": {
      "needs_background": "light"
     },
     "output_type": "display_data"
    }
   ],
   "source": [
    "acc_log_reg1, acc_pca1, acc_l2_1 =  compare_models(data_before_after)\n"
   ]
  },
  {
   "cell_type": "code",
   "execution_count": null,
   "metadata": {},
   "outputs": [],
   "source": [
    "compare_samples_t_test(acc_log_reg1, acc_pca1)\n",
    "compare_samples_t_test(acc_l2_1, acc_pca1)"
   ]
  },
  {
   "cell_type": "code",
   "execution_count": 54,
   "metadata": {},
   "outputs": [
    {
     "name": "stdout",
     "output_type": "stream",
     "text": [
      "Log reg test acc=  0.8862559241706162\n",
      "PCA test acc =  0.909952606635071\n",
      "L2 test acc =  0.8672985781990521\n",
      "\n",
      "\n",
      "Log reg test f1=  0.8867098158496617\n",
      "PCA test f1 =  0.9084924441891267\n",
      "L2 test f1 =  0.8687816161340596\n",
      "\n",
      "\n",
      "Log reg\n",
      "TN= 55 \n",
      " FP= 11 \n",
      " FN= 13 \n",
      " TP= 132 \n",
      "\n",
      "precision= 0.8873388947266839 \n",
      " recall= 0.8862559241706162 \n",
      " F score= 0.8867098158496617 \n",
      "\n",
      "\n",
      "\n",
      "PCA + Log reg\n",
      "TN= 53 \n",
      " FP= 13 \n",
      " FN= 6 \n",
      " TP= 139 \n",
      "\n",
      "precision= 0.9094162076006952 \n",
      " recall= 0.909952606635071 \n",
      " F score= 0.9084924441891267 \n",
      "\n",
      "\n",
      "\n",
      "Log reg + L2\n",
      "TN= 55 \n",
      " FP= 11 \n",
      " FN= 17 \n",
      " TP= 128 \n",
      "\n",
      "precision= 0.8717623057951742 \n",
      " recall= 0.8672985781990521 \n",
      " F score= 0.8687816161340596 \n",
      "\n",
      "log_reg mean value: 0.8928571428571427\n",
      "pca mean value: 0.8785714285714286\n",
      "l1 std value: 0.05904569889351071\n",
      "pca std value: 0.06088910405973536\n",
      "p-value 0.3681464402185626\n",
      "we accept null hypothesis\n"
     ]
    }
   ],
   "source": [
    "acc_log_reg2, acc_pca2, acc_l2_2 =  compare_models(data_in_out)\n",
    "compare_samples_t_test(acc_log_reg1, acc_pca1)\n",
    "    "
   ]
  },
  {
   "cell_type": "code",
   "execution_count": 56,
   "metadata": {},
   "outputs": [
    {
     "name": "stdout",
     "output_type": "stream",
     "text": [
      "log_reg mean value: 0.8797619047619049\n",
      "pca mean value: 0.8785714285714286\n",
      "l1 std value: 0.0693037122753709\n",
      "pca std value: 0.06088910405973536\n",
      "p-value 0.944836066058485\n",
      "we accept null hypothesis\n"
     ]
    }
   ],
   "source": [
    "\n"
   ]
  },
  {
   "cell_type": "code",
   "execution_count": null,
   "metadata": {},
   "outputs": [],
   "source": []
  },
  {
   "cell_type": "code",
   "execution_count": 22,
   "metadata": {},
   "outputs": [],
   "source": [
    "# names = data.columns.tolist()\n",
    "# coef = list(zip(model.coef_[0], names))\n",
    "# # coef\n",
    "# x = [(c, n) for c, n in coef if c > 0.5]\n",
    "# x"
   ]
  },
  {
   "cell_type": "code",
   "execution_count": 32,
   "metadata": {},
   "outputs": [
    {
     "name": "stdout",
     "output_type": "stream",
     "text": [
      "Lasso model:  [0. 0. 0. ... 0. 0. 0.]\n"
     ]
    },
    {
     "ename": "NameError",
     "evalue": "name 'data' is not defined",
     "output_type": "error",
     "traceback": [
      "\u001b[0;31m---------------------------------------------------------------------------\u001b[0m",
      "\u001b[0;31mNameError\u001b[0m                                 Traceback (most recent call last)",
      "\u001b[0;32m<ipython-input-32-583d860e3bfa>\u001b[0m in \u001b[0;36m<module>\u001b[0;34m\u001b[0m\n\u001b[1;32m     13\u001b[0m \u001b[0;34m[\u001b[0m\u001b[0mx\u001b[0m \u001b[0;32mfor\u001b[0m \u001b[0mx\u001b[0m \u001b[0;32min\u001b[0m \u001b[0mlasso\u001b[0m\u001b[0;34m.\u001b[0m\u001b[0mcoef_\u001b[0m \u001b[0;32mif\u001b[0m \u001b[0mx\u001b[0m \u001b[0;34m!=\u001b[0m \u001b[0;36m0\u001b[0m\u001b[0;34m]\u001b[0m\u001b[0;34m\u001b[0m\u001b[0;34m\u001b[0m\u001b[0m\n\u001b[1;32m     14\u001b[0m \u001b[0;31m# print(len(lasso.coef_))\u001b[0m\u001b[0;34m\u001b[0m\u001b[0;34m\u001b[0m\u001b[0;34m\u001b[0m\u001b[0m\n\u001b[0;32m---> 15\u001b[0;31m \u001b[0mnames\u001b[0m \u001b[0;34m=\u001b[0m \u001b[0mdata\u001b[0m\u001b[0;34m.\u001b[0m\u001b[0mcolumns\u001b[0m\u001b[0;34m.\u001b[0m\u001b[0mtolist\u001b[0m\u001b[0;34m(\u001b[0m\u001b[0;34m)\u001b[0m\u001b[0;34m\u001b[0m\u001b[0;34m\u001b[0m\u001b[0m\n\u001b[0m\u001b[1;32m     16\u001b[0m \u001b[0mcoef\u001b[0m \u001b[0;34m=\u001b[0m \u001b[0mlist\u001b[0m\u001b[0;34m(\u001b[0m\u001b[0mzip\u001b[0m\u001b[0;34m(\u001b[0m\u001b[0mlasso\u001b[0m\u001b[0;34m.\u001b[0m\u001b[0mcoef_\u001b[0m\u001b[0;34m,\u001b[0m \u001b[0mnames\u001b[0m\u001b[0;34m)\u001b[0m\u001b[0;34m)\u001b[0m\u001b[0;34m\u001b[0m\u001b[0;34m\u001b[0m\u001b[0m\n\u001b[1;32m     17\u001b[0m \u001b[0mx\u001b[0m \u001b[0;34m=\u001b[0m \u001b[0;34m[\u001b[0m\u001b[0;34m(\u001b[0m\u001b[0mc\u001b[0m\u001b[0;34m,\u001b[0m \u001b[0mn\u001b[0m\u001b[0;34m)\u001b[0m \u001b[0;32mfor\u001b[0m \u001b[0mc\u001b[0m\u001b[0;34m,\u001b[0m \u001b[0mn\u001b[0m \u001b[0;32min\u001b[0m \u001b[0mcoef\u001b[0m \u001b[0;32mif\u001b[0m \u001b[0mc\u001b[0m \u001b[0;34m>\u001b[0m \u001b[0;36m0\u001b[0m\u001b[0;34m]\u001b[0m\u001b[0;34m\u001b[0m\u001b[0;34m\u001b[0m\u001b[0m\n",
      "\u001b[0;31mNameError\u001b[0m: name 'data' is not defined"
     ]
    }
   ],
   "source": [
    "from sklearn.linear_model import Lasso\n",
    "from sklearn.preprocessing import StandardScaler\n",
    "import pprint\n",
    "\n",
    "scaler = StandardScaler()\n",
    "X = scaler.fit_transform(X)\n",
    "Y = y_train\n",
    "  \n",
    "lasso = Lasso(alpha=.05)\n",
    "lasso.fit(X, Y)\n",
    "  \n",
    "print( \"Lasso model: \",lasso.coef_)\n",
    "[x for x in lasso.coef_ if x != 0]\n",
    "# print(len(lasso.coef_))\n",
    "names = data.columns.tolist()\n",
    "coef = list(zip(lasso.coef_, names))\n",
    "x = [(c, n) for c, n in coef if c > 0]\n",
    "x"
   ]
  },
  {
   "cell_type": "code",
   "execution_count": 29,
   "metadata": {},
   "outputs": [],
   "source": [
    "\n",
    "import numpy as np\n",
    "from sklearn.metrics import roc_curve\n",
    "y_true = np.array([0, 0, 1, 1])\n",
    "y_scores = np.array([0.1, 0.4, 0.35, 0.8])\n"
   ]
  },
  {
   "cell_type": "code",
   "execution_count": 32,
   "metadata": {},
   "outputs": [
    {
     "data": {
      "image/png": "[encoded data removed]",
      "text/plain": [
       "<Figure size 432x288 with 1 Axes>"
      ]
     },
     "metadata": {
      "needs_background": "light"
     },
     "output_type": "display_data"
    }
   ],
   "source": [
    "from matplotlib import pyplot as plt\n",
    "fpr, tpr, thresholds = roc_curve(y_true, y_scores)\n",
    "plt.plot(fpr, tpr)\n",
    "plt.title(\"ROC Curve\")\n",
    "plt.xlabel(\"False Positive Rate\")\n",
    "plt.ylabel(\"True Positive Rate\")\n",
    "plt.show()"
   ]
  },
  {
   "cell_type": "code",
   "execution_count": 38,
   "metadata": {},
   "outputs": [],
   "source": []
  },
  {
   "cell_type": "code",
   "execution_count": 39,
   "metadata": {},
   "outputs": [],
   "source": []
  },
  {
   "cell_type": "code",
   "execution_count": null,
   "metadata": {},
   "outputs": [],
   "source": []
  }
 ],
 "metadata": {
  "kernelspec": {
   "display_name": "Python 3",
   "language": "python",
   "name": "python3"
  },
  "language_info": {
   "codemirror_mode": {
    "name": "ipython",
    "version": 3
   },
   "file_extension": ".py",
   "mimetype": "text/x-python",
   "name": "python",
   "nbconvert_exporter": "python",
   "pygments_lexer": "ipython3",
   "version": "3.7.3"
  }
 },
 "nbformat": 4,
 "nbformat_minor": 2
}
