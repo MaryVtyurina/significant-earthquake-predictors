{
 "cells": [
  {
   "cell_type": "code",
   "execution_count": 5,
   "metadata": {},
   "outputs": [],
   "source": [
    "import pandas as pd\n",
    "from sklearn.preprocessing import StandardScaler\n",
    "from sklearn.model_selection import train_test_split\n",
    "from sklearn.linear_model import LogisticRegression\n",
    "from sklearn.metrics import accuracy_score"
   ]
  },
  {
   "cell_type": "code",
   "execution_count": 6,
   "metadata": {},
   "outputs": [],
   "source": [
    "data_in_out = pd.read_csv('../ionosphere_dataset/NOAA/NOAA_datasets_for_ML/datasets_LR_model/flattened_ds_sondes_in_out_7days.csv')\n",
    "data_before_after_14 = pd.read_csv('../ionosphere_dataset/NOAA/NOAA_datasets_for_ML/datasets_LR_model/flattened_ds_y_ago_y_after_14days.csv')"
   ]
  },
  {
   "cell_type": "code",
   "execution_count": 7,
   "metadata": {},
   "outputs": [],
   "source": [
    "df = data_in_out\n",
    "ds_data = df.drop(columns = ['res']).to_numpy()\n",
    "ds_target = df['res'].to_numpy()\n",
    "x_train, x_test, y_train, y_test = train_test_split(ds_data, ds_target, test_size=0.2, random_state=42)\n",
    "sc = StandardScaler()\n",
    "x_train_std = sc.fit_transform(x_train)\n",
    "x_test_std = sc.transform(x_test)\n",
    "X = x_train_std\n",
    "y = y_train"
   ]
  },
  {
   "cell_type": "code",
   "execution_count": 23,
   "metadata": {},
   "outputs": [
    {
     "name": "stdout",
     "output_type": "stream",
     "text": [
      "0.8767772511848341\n"
     ]
    }
   ],
   "source": [
    "model = LogisticRegression(penalty='l1', C=10, solver='liblinear',  max_iter=10000, tol=0.1)\n",
    "model.fit(X, y_train)\n",
    "names = df.drop(columns = ['res']).columns.tolist()\n",
    "coef = list(zip(model.coef_[0], names))\n",
    "feature_importance_dict = [(c, n) for c, n in coef if c > 0.2]\n",
    "print(accuracy_score(y_test, model.predict(x_test_std)))"
   ]
  },
  {
   "cell_type": "code",
   "execution_count": 24,
   "metadata": {},
   "outputs": [
    {
     "name": "stdout",
     "output_type": "stream",
     "text": [
      "(0.23187937681841123, 'D_0_13')\n",
      "(0.3864829613973348, 'D_1_0')\n",
      "(0.24249663457979195, 'D_1_22')\n",
      "(0.49366319286592364, 'D_2_19')\n",
      "(0.7002088142865541, 'D_3_4')\n",
      "(1.0975772545042854, 'D_4_12')\n",
      "(0.5238204995968122, 'D_5_13')\n",
      "(0.20330364699210607, 'M(D)_4_3')\n",
      "(0.3233925046793897, 'foF2p_6_4')\n",
      "(0.21767465674627973, \"h'Es_6_23\")\n",
      "(0.24658489821910415, \"h'F_0_13\")\n",
      "(0.20207244410187375, \"h'F_2_13\")\n",
      "(0.22021966955685135, \"h'F_3_19\")\n",
      "(0.31412269897008993, 'peak height of F2 layer_0_22')\n",
      "(0.27701719610518616, 'peak height of F2 layer_6_0')\n",
      "(0.20614904008240675, 'peak height of F2 layer_6_3')\n"
     ]
    }
   ],
   "source": [
    "for feature in feature_importance_dict:\n",
    "    if feature[0] > 0.1:\n",
    "        print(feature)"
   ]
  },
  {
   "cell_type": "code",
   "execution_count": null,
   "metadata": {},
   "outputs": [],
   "source": []
  }
 ],
 "metadata": {
  "kernelspec": {
   "display_name": "Python 3",
   "language": "python",
   "name": "python3"
  },
  "language_info": {
   "codemirror_mode": {
    "name": "ipython",
    "version": 3
   },
   "file_extension": ".py",
   "mimetype": "text/x-python",
   "name": "python",
   "nbconvert_exporter": "python",
   "pygments_lexer": "ipython3",
   "version": "3.7.3"
  }
 },
 "nbformat": 4,
 "nbformat_minor": 2
}
