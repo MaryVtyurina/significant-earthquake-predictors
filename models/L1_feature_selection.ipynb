{
 "cells": [
  {
   "cell_type": "code",
   "execution_count": 5,
   "metadata": {},
   "outputs": [],
   "source": [
    "import pandas as pd\n",
    "from sklearn.preprocessing import StandardScaler\n",
    "from sklearn.model_selection import train_test_split\n",
    "from sklearn.linear_model import LogisticRegression\n",
    "from sklearn.metrics import accuracy_score"
   ]
  },
  {
   "cell_type": "code",
   "execution_count": 6,
   "metadata": {},
   "outputs": [],
   "source": [
    "data_in_out = pd.read_csv('../ionosphere_dataset/NOAA/NOAA_datasets_for_ML/datasets_LR_model/flattened_ds_sondes_in_out_7days.csv')\n",
    "data_before_after_14 = pd.read_csv('../ionosphere_dataset/NOAA/NOAA_datasets_for_ML/datasets_LR_model/flattened_ds_y_ago_y_after_14days.csv')"
   ]
  },
  {
   "cell_type": "code",
   "execution_count": 7,
   "metadata": {},
   "outputs": [],
   "source": [
    "df = data_in_out\n",
    "ds_data = df.drop(columns = ['res']).to_numpy()\n",
    "ds_target = df['res'].to_numpy()\n",
    "x_train, x_test, y_train, y_test = train_test_split(ds_data, ds_target, test_size=0.2, random_state=42)\n",
    "sc = StandardScaler()\n",
    "x_train_std = sc.fit_transform(x_train)\n",
    "x_test_std = sc.transform(x_test)\n",
    "X = x_train_std\n",
    "y = y_train"
   ]
  },
  {
   "cell_type": "code",
   "execution_count": 25,
   "metadata": {},
   "outputs": [
    {
     "name": "stdout",
     "output_type": "stream",
     "text": [
      "0.8720379146919431\n"
     ]
    }
   ],
   "source": [
    "model = LogisticRegression(penalty='l1', C=100, solver='liblinear',  max_iter=10000, tol=0.1)\n",
    "model.fit(X, y_train)\n",
    "names = df.drop(columns = ['res']).columns.tolist()\n",
    "coef = list(zip(model.coef_[0], names))\n",
    "feature_importance_dict = [(c, n) for c, n in coef if c > 0.2]\n",
    "print(accuracy_score(y_test, model.predict(x_test_std)))"
   ]
  },
  {
   "cell_type": "code",
   "execution_count": 26,
   "metadata": {},
   "outputs": [
    {
     "name": "stdout",
     "output_type": "stream",
     "text": [
      "(0.21320775513850648, 'D_0_13')\n",
      "(0.3099503375715599, 'D_1_0')\n",
      "(0.6463753266101048, 'D_1_6')\n",
      "(0.9841072259023528, 'D_2_18')\n",
      "(0.21710432599896556, 'D_3_20')\n",
      "(0.5911754788783952, 'D_3_23')\n",
      "(0.7181557136884924, 'D_3_3')\n",
      "(0.2998577470025577, 'M(D)_2_17')\n",
      "(0.2354394558505226, 'M(D)_4_2')\n",
      "(0.33481444436971236, 'fmin_2_13')\n",
      "(0.2894580066731171, 'foF2p_1_14')\n",
      "(0.3019518188002551, 'foF2p_2_23')\n",
      "(0.2186025831926019, \"h'Es_2_21\")\n",
      "(0.2290589882673575, \"h'Es_6_14\")\n",
      "(0.2616700497306693, \"h'Es_6_4\")\n",
      "(0.20231203117649835, \"h'F_0_13\")\n",
      "(0.2598301737477471, \"h'F_0_15\")\n",
      "(0.2154387948163799, \"h'F_4_8\")\n",
      "(0.26954480161534083, 'peak height of F2 layer_5_13')\n"
     ]
    }
   ],
   "source": [
    "for feature in feature_importance_dict:\n",
    "    if feature[0] > 0.1:\n",
    "        print(feature)"
   ]
  },
  {
   "cell_type": "code",
   "execution_count": null,
   "metadata": {},
   "outputs": [],
   "source": []
  }
 ],
 "metadata": {
  "kernelspec": {
   "display_name": "Python 3",
   "language": "python",
   "name": "python3"
  },
  "language_info": {
   "codemirror_mode": {
    "name": "ipython",
    "version": 3
   },
   "file_extension": ".py",
   "mimetype": "text/x-python",
   "name": "python",
   "nbconvert_exporter": "python",
   "pygments_lexer": "ipython3",
   "version": "3.7.3"
  }
 },
 "nbformat": 4,
 "nbformat_minor": 2
}
